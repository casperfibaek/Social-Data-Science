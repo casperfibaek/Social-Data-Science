{
 "metadata": {
  "language_info": {
   "codemirror_mode": {
    "name": "ipython",
    "version": 3
   },
   "file_extension": ".py",
   "mimetype": "text/x-python",
   "name": "python",
   "nbconvert_exporter": "python",
   "pygments_lexer": "ipython3",
   "version": "3.7.6-final"
  },
  "orig_nbformat": 2,
  "kernelspec": {
   "name": "python3",
   "display_name": "Python 3"
  }
 },
 "nbformat": 4,
 "nbformat_minor": 2,
 "cells": [
  {
   "source": [
    "# Pandas"
   ],
   "cell_type": "markdown",
   "metadata": {}
  },
  {
   "cell_type": "code",
   "execution_count": 7,
   "metadata": {},
   "outputs": [],
   "source": [
    "import pandas as pd\n",
    "\n",
    "a = pd.Series([3, 5, 1, 4])\n",
    "b = pd.Series([-3, 4, 2, 0])"
   ]
  },
  {
   "cell_type": "code",
   "execution_count": 16,
   "metadata": {},
   "outputs": [],
   "source": [
    "uniques = (a + b).unique\n",
    "zeros = (a + b).isin([0])\n",
    "\n",
    "indexed = pd.Series([4, 2, 7, 8], index=['spring', 'summer', 'fall', 'winter'])"
   ]
  },
  {
   "cell_type": "code",
   "execution_count": 17,
   "metadata": {},
   "outputs": [
    {
     "output_type": "execute_result",
     "data": {
      "text/plain": [
       "spring    4\n",
       "summer    2\n",
       "fall      7\n",
       "winter    8\n",
       "dtype: int64"
      ]
     },
     "metadata": {},
     "execution_count": 17
    }
   ],
   "source": [
    "indexed"
   ]
  },
  {
   "source": [
    "# Mini - assignment"
   ],
   "cell_type": "markdown",
   "metadata": {}
  },
  {
   "cell_type": "code",
   "execution_count": 25,
   "metadata": {},
   "outputs": [
    {
     "output_type": "stream",
     "name": "stdout",
     "text": [
      "0    3.6\n1   -1.8\n2    6.3\n3    7.2\ndtype: float64\n"
     ]
    }
   ],
   "source": [
    "a = pd.Series([4, -2, 7, 8])\n",
    "\n",
    "def add_percent(series: pd.Series, percent: float) -> pd.Series:\n",
    "    '''\n",
    "        Adds a certain percent to the input series.\n",
    "\n",
    "        Parameters:\n",
    "            series: Pandas series\n",
    "            percent: Number (iloat or int)\n",
    "\n",
    "        Returns: Pandas series\n",
    "    '''\n",
    "    return a + ((series / 100.0) * percent)\n",
    "\n",
    "print(add_percent(a, -10))"
   ]
  },
  {
   "cell_type": "code",
   "execution_count": null,
   "metadata": {},
   "outputs": [],
   "source": []
  }
 ]
}