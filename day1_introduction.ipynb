{
 "metadata": {
  "language_info": {
   "codemirror_mode": {
    "name": "ipython",
    "version": 3
   },
   "file_extension": ".py",
   "mimetype": "text/x-python",
   "name": "python",
   "nbconvert_exporter": "python",
   "pygments_lexer": "ipython3",
   "version": "3.7.6-final"
  },
  "orig_nbformat": 2,
  "kernelspec": {
   "name": "python3",
   "display_name": "Python 3"
  }
 },
 "nbformat": 4,
 "nbformat_minor": 2,
 "cells": [
  {
   "source": [
    "# Day 1 - Introduction\n",
    "How are you, World?"
   ],
   "cell_type": "markdown",
   "metadata": {}
  },
  {
   "source": [
    "print('> I feel like I am running a fever.')"
   ],
   "cell_type": "code",
   "metadata": {},
   "execution_count": 5,
   "outputs": [
    {
     "output_type": "stream",
     "name": "stdout",
     "text": [
      "> I feel like I am running a fever.\n"
     ]
    }
   ]
  },
  {
   "source": [
    "Lets define some variables!"
   ],
   "cell_type": "markdown",
   "metadata": {}
  },
  {
   "cell_type": "code",
   "execution_count": 6,
   "metadata": {},
   "outputs": [],
   "source": [
    "recipient = 'World'\n",
    "sender = 'Casper'\n",
    "recipient_age = 45400000000\n",
    "sender_age = 31.8"
   ]
  },
  {
   "source": [
    "What are the data types of those?"
   ],
   "cell_type": "markdown",
   "metadata": {}
  },
  {
   "cell_type": "code",
   "execution_count": 7,
   "metadata": {},
   "outputs": [
    {
     "output_type": "stream",
     "name": "stdout",
     "text": [
      "recipient: <class 'str'>\nsender: <class 'str'>\nrecipient_age: <class 'int'>\nsender_age: <class 'float'>\n"
     ]
    }
   ],
   "source": [
    "print(f'recipient: {type(recipient)}')\n",
    "print(f'sender: {type(sender)}')\n",
    "print(f'recipient_age: {type(recipient_age)}')\n",
    "print(f'sender_age: {type(sender_age)}')"
   ]
  },
  {
   "source": [
    "Greet eachother."
   ],
   "cell_type": "markdown",
   "metadata": {}
  },
  {
   "cell_type": "code",
   "execution_count": 8,
   "metadata": {},
   "outputs": [
    {
     "output_type": "stream",
     "name": "stdout",
     "text": [
      "Hello World, how old are you? I am 31.8 years old.\nHi Casper, I am World and I am 45400000000 years old.\n"
     ]
    }
   ],
   "source": [
    "print(f'Hello {recipient}, how old are you? I am {sender_age} years old.')\n",
    "print(f'Hi {sender}, I am {recipient} and I am {recipient_age} years old.')"
   ]
  },
  {
   "source": [
    "# Arithmetic and assignment"
   ],
   "cell_type": "markdown",
   "metadata": {}
  },
  {
   "cell_type": "code",
   "execution_count": 10,
   "metadata": {},
   "outputs": [
    {
     "output_type": "stream",
     "name": "stdout",
     "text": [
      "Together we are 45400000031.8 years old.\n"
     ]
    }
   ],
   "source": [
    "combined_age = recipient_age + sender_age\n",
    "print(f'Together we are {combined_age} years old.')"
   ]
  },
  {
   "source": [
    "# Importing"
   ],
   "cell_type": "markdown",
   "metadata": {}
  },
  {
   "cell_type": "code",
   "execution_count": 13,
   "metadata": {},
   "outputs": [
    {
     "output_type": "stream",
     "name": "stdout",
     "text": [
      "6.708203932499369\n"
     ]
    }
   ],
   "source": [
    "import math as maths\n",
    "\n",
    "a = 3\n",
    "b = 6\n",
    "\n",
    "c = maths.sqrt((a ** 2) + (b ** 2))\n",
    "print(c)"
   ]
  },
  {
   "source": [
    "# Defining Functions"
   ],
   "cell_type": "markdown",
   "metadata": {}
  },
  {
   "cell_type": "code",
   "execution_count": 88,
   "metadata": {},
   "outputs": [],
   "source": [
    "from math import sqrt\n",
    "\n",
    "\n",
    "class Point2D():\n",
    "    x: float\n",
    "    y: float\n",
    "\n",
    "\n",
    "def is_number(x: any) -> bool:\n",
    "    '''\n",
    "        Verifies that an input is a number\n",
    "\n",
    "        Parameters:\n",
    "        x: Can be any type of python object.\n",
    "\n",
    "        Returns:\n",
    "        bool: True if input is a number, False otherwise.\n",
    "    '''\n",
    "    if type(x) == int:\n",
    "        return True\n",
    "    if type(x) == float:\n",
    "        return True\n",
    "    \n",
    "    return False\n",
    "\n",
    "\n",
    "def is_valid_point(p:Point2D) -> bool:\n",
    "    '''\n",
    "        Verifies that a point is valid\n",
    "\n",
    "        Parameters:\n",
    "        p: A dict containing x: float and y: float.\n",
    "\n",
    "        Returns:\n",
    "        bool: True if point is valid, False otherwise.\n",
    "    '''\n",
    "\n",
    "    if is_number(p['x']) == True and is_number(p['y']) == True:\n",
    "        return True\n",
    "\n",
    "    return False\n",
    "\n",
    "\n",
    "def euclidian_distance(a:Point2D, b:Point2D) -> float:\n",
    "    '''\n",
    "        Calculates the euclidian distance between two points.\n",
    "\n",
    "        Parameters:\n",
    "        a: A dict containing x: float and y: float.\n",
    "        b: A dict containing x: float and y: float.\n",
    "\n",
    "        Returns:\n",
    "        float: The distance between the two points.\n",
    "    '''\n",
    "    assert is_valid_point(a) and is_valid_point(b), 'Inputs are not valid.'\n",
    "\n",
    "    x_pow = (b['x'] - a['x']) ** 2\n",
    "    y_pow = (b['y'] - a['y']) ** 2\n",
    "\n",
    "    return sqrt(x_pow + y_pow)\n",
    "\n",
    "\n",
    "def slope_2d(a:Point2D, b:Point2D) -> float:\n",
    "    '''\n",
    "        Calculates the slope between two points.\n",
    "\n",
    "        Parameters:\n",
    "        a: A dict containing x: float and y: float.\n",
    "        b: A dict containing x: float and y: float.\n",
    "\n",
    "        Returns:\n",
    "        float: The slope between the two points.\n",
    "    '''\n",
    "\n",
    "    assert is_valid_point(a) and is_valid_point(b), 'Inputs are not valid.'\n",
    "\n",
    "    numerator = (b['y'] - a['y'])\n",
    "    denominator = (b['x'] - a['x'])\n",
    "\n",
    "    return numerator / denominator\n"
   ]
  },
  {
   "cell_type": "code",
   "execution_count": 87,
   "metadata": {},
   "outputs": [
    {
     "output_type": "stream",
     "name": "stdout",
     "text": [
      "{'x': 0, 'y': 0}\n{'x': 3, 'y': 3}\n{'x': 0, 'y': 0}\n{'x': 3, 'y': 3}\n4.242640687119285\n1.0\n"
     ]
    }
   ],
   "source": [
    "a = { 'x': 0, 'y': 0 }\n",
    "b = { 'x': 3, 'y': 3 }\n",
    "\n",
    "distance = euclidian_distance(a, b)\n",
    "slope = slope_2d(a, b)\n",
    "\n",
    "print(distance)\n",
    "print(slope)"
   ]
  },
  {
   "source": [
    "# Lists"
   ],
   "cell_type": "markdown",
   "metadata": {}
  },
  {
   "cell_type": "code",
   "execution_count": 96,
   "metadata": {},
   "outputs": [
    {
     "output_type": "stream",
     "name": "stdout",
     "text": [
      "['casper', 31, 'carlson', 3]\n<function add at 0x0000024C62C6ED38>\n[31, 'carlson', 3]\n"
     ]
    }
   ],
   "source": [
    "def add(a, b):\n",
    "    return a + b\n",
    "\n",
    "l = ['casper', 31, add]\n",
    "l.append('carlson')\n",
    "l.append(l[2](1,2))\n",
    "a = l.pop(2)\n",
    "\n",
    "print(l)\n",
    "print(a)\n",
    "print(l[1:])"
   ]
  },
  {
   "source": [
    "# Dict"
   ],
   "cell_type": "markdown",
   "metadata": {}
  },
  {
   "cell_type": "code",
   "execution_count": 98,
   "metadata": {},
   "outputs": [
    {
     "output_type": "stream",
     "name": "stdout",
     "text": [
      "{'cat': False, 'dog': True} {'cat': True, 'dog': True}\n"
     ]
    }
   ],
   "source": [
    "carlson = { 'cat': False, 'dog': True }\n",
    "torben = { 'cat': True, 'dog': True }\n",
    "\n",
    "print(carlson, torben)"
   ]
  },
  {
   "source": [
    "# Loops"
   ],
   "cell_type": "markdown",
   "metadata": {}
  },
  {
   "cell_type": "code",
   "execution_count": 106,
   "metadata": {},
   "outputs": [
    {
     "output_type": "stream",
     "name": "stdout",
     "text": [
      "[0, 2, 4, 6, 8, 10, 12, 14, 16, 18, 20, 22, 24, 26, 28, 30, 32, 34, 36, 38, 40, 42, 44, 46, 48, 50, 52, 54, 56, 58, 60, 62, 64, 66, 68, 70, 72, 74, 76, 78, 80, 82, 84, 86, 88, 90, 92, 94, 96, 98, 100]\n"
     ]
    }
   ],
   "source": [
    "even = []\n",
    "\n",
    "for val in range(0, 101):\n",
    "    if val % 2 == 0:\n",
    "        even.append(val)\n",
    "\n",
    "print(even)"
   ]
  },
  {
   "cell_type": "code",
   "execution_count": null,
   "metadata": {},
   "outputs": [],
   "source": []
  }
 ]
}