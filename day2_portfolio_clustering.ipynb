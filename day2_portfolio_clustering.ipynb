{
 "metadata": {
  "language_info": {
   "codemirror_mode": {
    "name": "ipython",
    "version": 3
   },
   "file_extension": ".py",
   "mimetype": "text/x-python",
   "name": "python",
   "nbconvert_exporter": "python",
   "pygments_lexer": "ipython3",
   "version": "3.7.6-final"
  },
  "orig_nbformat": 2,
  "kernelspec": {
   "name": "python3",
   "display_name": "Python 3"
  }
 },
 "nbformat": 4,
 "nbformat_minor": 2,
 "cells": [
  {
   "source": [
    "# Portfolio DAY 2 - Unsupervised and Supervised Machine Learning\n",
    "## Clustering - Danish Values 1999"
   ],
   "cell_type": "markdown",
   "metadata": {}
  },
  {
   "cell_type": "code",
   "execution_count": 2,
   "metadata": {},
   "outputs": [],
   "source": [
    "import numpy as np\n",
    "import pandas as pd\n",
    "import seaborn as sns\n",
    "import matplotlib.pyplot as plt\n",
    "from sklearn.preprocessing import StandardScaler\n",
    "from sklearn.decomposition import PCA\n",
    "\n",
    "df = pd.read_csv('./data/danishvalues99.csv')"
   ]
  },
  {
   "cell_type": "code",
   "execution_count": 3,
   "metadata": {},
   "outputs": [
    {
     "output_type": "execute_result",
     "data": {
      "text/plain": [
       "     gender  income  criminals  diffrace  leftwings  alcoholics  rightwings  \\\n",
       "0         2  900000          0         0          0           0           1   \n",
       "1         1  180000          0         0          0           0           1   \n",
       "2         1  600000          0         0          0           0           0   \n",
       "3         2  180000          1         0          0           1           0   \n",
       "4         2   60000          0         0          0           0           0   \n",
       "..      ...     ...        ...       ...        ...         ...         ...   \n",
       "895       1  550000          1         0          0           0           0   \n",
       "896       1  300000          0         0          1           0           1   \n",
       "897       1  370000          1         0          0           1           0   \n",
       "898       1  600000          0         0          0           0           0   \n",
       "899       2  250000          0         0          0           1           0   \n",
       "\n",
       "     manykids  neurotics  muslims  imigrants  aids  addicts  homoseksuals  \\\n",
       "0           0          0        0          0     0        0             0   \n",
       "1           0          1        0          0     0        0             0   \n",
       "2           0          0        0          0     0        0             0   \n",
       "3           0          0        0          0     0        1             0   \n",
       "4           0          0        0          0     0        1             0   \n",
       "..        ...        ...      ...        ...   ...      ...           ...   \n",
       "895         0          0        0          0     0        1             0   \n",
       "896         0          1        0          0     0        1             0   \n",
       "897         0          1        0          0     0        0             0   \n",
       "898         0          0        0          0     0        0             0   \n",
       "899         0          1        0          0     0        1             0   \n",
       "\n",
       "     jews  gypsies  age  edu   id  \n",
       "0       0        0   48    4    1  \n",
       "1       0        0   30    4    2  \n",
       "2       0        0   57    3    3  \n",
       "3       0        0   55    0    4  \n",
       "4       0        0   21    0    5  \n",
       "..    ...      ...  ...  ...  ...  \n",
       "895     0        0   47    0  896  \n",
       "896     0        0   54    3  897  \n",
       "897     0        0   47    3  898  \n",
       "898     0        0   26    3  899  \n",
       "899     0        0   53    3  900  \n",
       "\n",
       "[900 rows x 19 columns]"
      ],
      "text/html": "<div>\n<style scoped>\n    .dataframe tbody tr th:only-of-type {\n        vertical-align: middle;\n    }\n\n    .dataframe tbody tr th {\n        vertical-align: top;\n    }\n\n    .dataframe thead th {\n        text-align: right;\n    }\n</style>\n<table border=\"1\" class=\"dataframe\">\n  <thead>\n    <tr style=\"text-align: right;\">\n      <th></th>\n      <th>gender</th>\n      <th>income</th>\n      <th>criminals</th>\n      <th>diffrace</th>\n      <th>leftwings</th>\n      <th>alcoholics</th>\n      <th>rightwings</th>\n      <th>manykids</th>\n      <th>neurotics</th>\n      <th>muslims</th>\n      <th>imigrants</th>\n      <th>aids</th>\n      <th>addicts</th>\n      <th>homoseksuals</th>\n      <th>jews</th>\n      <th>gypsies</th>\n      <th>age</th>\n      <th>edu</th>\n      <th>id</th>\n    </tr>\n  </thead>\n  <tbody>\n    <tr>\n      <th>0</th>\n      <td>2</td>\n      <td>900000</td>\n      <td>0</td>\n      <td>0</td>\n      <td>0</td>\n      <td>0</td>\n      <td>1</td>\n      <td>0</td>\n      <td>0</td>\n      <td>0</td>\n      <td>0</td>\n      <td>0</td>\n      <td>0</td>\n      <td>0</td>\n      <td>0</td>\n      <td>0</td>\n      <td>48</td>\n      <td>4</td>\n      <td>1</td>\n    </tr>\n    <tr>\n      <th>1</th>\n      <td>1</td>\n      <td>180000</td>\n      <td>0</td>\n      <td>0</td>\n      <td>0</td>\n      <td>0</td>\n      <td>1</td>\n      <td>0</td>\n      <td>1</td>\n      <td>0</td>\n      <td>0</td>\n      <td>0</td>\n      <td>0</td>\n      <td>0</td>\n      <td>0</td>\n      <td>0</td>\n      <td>30</td>\n      <td>4</td>\n      <td>2</td>\n    </tr>\n    <tr>\n      <th>2</th>\n      <td>1</td>\n      <td>600000</td>\n      <td>0</td>\n      <td>0</td>\n      <td>0</td>\n      <td>0</td>\n      <td>0</td>\n      <td>0</td>\n      <td>0</td>\n      <td>0</td>\n      <td>0</td>\n      <td>0</td>\n      <td>0</td>\n      <td>0</td>\n      <td>0</td>\n      <td>0</td>\n      <td>57</td>\n      <td>3</td>\n      <td>3</td>\n    </tr>\n    <tr>\n      <th>3</th>\n      <td>2</td>\n      <td>180000</td>\n      <td>1</td>\n      <td>0</td>\n      <td>0</td>\n      <td>1</td>\n      <td>0</td>\n      <td>0</td>\n      <td>0</td>\n      <td>0</td>\n      <td>0</td>\n      <td>0</td>\n      <td>1</td>\n      <td>0</td>\n      <td>0</td>\n      <td>0</td>\n      <td>55</td>\n      <td>0</td>\n      <td>4</td>\n    </tr>\n    <tr>\n      <th>4</th>\n      <td>2</td>\n      <td>60000</td>\n      <td>0</td>\n      <td>0</td>\n      <td>0</td>\n      <td>0</td>\n      <td>0</td>\n      <td>0</td>\n      <td>0</td>\n      <td>0</td>\n      <td>0</td>\n      <td>0</td>\n      <td>1</td>\n      <td>0</td>\n      <td>0</td>\n      <td>0</td>\n      <td>21</td>\n      <td>0</td>\n      <td>5</td>\n    </tr>\n    <tr>\n      <th>...</th>\n      <td>...</td>\n      <td>...</td>\n      <td>...</td>\n      <td>...</td>\n      <td>...</td>\n      <td>...</td>\n      <td>...</td>\n      <td>...</td>\n      <td>...</td>\n      <td>...</td>\n      <td>...</td>\n      <td>...</td>\n      <td>...</td>\n      <td>...</td>\n      <td>...</td>\n      <td>...</td>\n      <td>...</td>\n      <td>...</td>\n      <td>...</td>\n    </tr>\n    <tr>\n      <th>895</th>\n      <td>1</td>\n      <td>550000</td>\n      <td>1</td>\n      <td>0</td>\n      <td>0</td>\n      <td>0</td>\n      <td>0</td>\n      <td>0</td>\n      <td>0</td>\n      <td>0</td>\n      <td>0</td>\n      <td>0</td>\n      <td>1</td>\n      <td>0</td>\n      <td>0</td>\n      <td>0</td>\n      <td>47</td>\n      <td>0</td>\n      <td>896</td>\n    </tr>\n    <tr>\n      <th>896</th>\n      <td>1</td>\n      <td>300000</td>\n      <td>0</td>\n      <td>0</td>\n      <td>1</td>\n      <td>0</td>\n      <td>1</td>\n      <td>0</td>\n      <td>1</td>\n      <td>0</td>\n      <td>0</td>\n      <td>0</td>\n      <td>1</td>\n      <td>0</td>\n      <td>0</td>\n      <td>0</td>\n      <td>54</td>\n      <td>3</td>\n      <td>897</td>\n    </tr>\n    <tr>\n      <th>897</th>\n      <td>1</td>\n      <td>370000</td>\n      <td>1</td>\n      <td>0</td>\n      <td>0</td>\n      <td>1</td>\n      <td>0</td>\n      <td>0</td>\n      <td>1</td>\n      <td>0</td>\n      <td>0</td>\n      <td>0</td>\n      <td>0</td>\n      <td>0</td>\n      <td>0</td>\n      <td>0</td>\n      <td>47</td>\n      <td>3</td>\n      <td>898</td>\n    </tr>\n    <tr>\n      <th>898</th>\n      <td>1</td>\n      <td>600000</td>\n      <td>0</td>\n      <td>0</td>\n      <td>0</td>\n      <td>0</td>\n      <td>0</td>\n      <td>0</td>\n      <td>0</td>\n      <td>0</td>\n      <td>0</td>\n      <td>0</td>\n      <td>0</td>\n      <td>0</td>\n      <td>0</td>\n      <td>0</td>\n      <td>26</td>\n      <td>3</td>\n      <td>899</td>\n    </tr>\n    <tr>\n      <th>899</th>\n      <td>2</td>\n      <td>250000</td>\n      <td>0</td>\n      <td>0</td>\n      <td>0</td>\n      <td>1</td>\n      <td>0</td>\n      <td>0</td>\n      <td>1</td>\n      <td>0</td>\n      <td>0</td>\n      <td>0</td>\n      <td>1</td>\n      <td>0</td>\n      <td>0</td>\n      <td>0</td>\n      <td>53</td>\n      <td>3</td>\n      <td>900</td>\n    </tr>\n  </tbody>\n</table>\n<p>900 rows × 19 columns</p>\n</div>"
     },
     "metadata": {},
     "execution_count": 3
    }
   ],
   "source": [
    "df"
   ]
  },
  {
   "cell_type": "code",
   "execution_count": null,
   "metadata": {},
   "outputs": [],
   "source": []
  }
 ]
}