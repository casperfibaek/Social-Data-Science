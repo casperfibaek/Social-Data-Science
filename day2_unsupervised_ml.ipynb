{
 "metadata": {
  "language_info": {
   "codemirror_mode": {
    "name": "ipython",
    "version": 3
   },
   "file_extension": ".py",
   "mimetype": "text/x-python",
   "name": "python",
   "nbconvert_exporter": "python",
   "pygments_lexer": "ipython3",
   "version": "3.7.6-final"
  },
  "orig_nbformat": 2,
  "kernelspec": {
   "name": "python3",
   "display_name": "Python 3"
  }
 },
 "nbformat": 4,
 "nbformat_minor": 2,
 "cells": [
  {
   "source": [
    "# Introduction to Unsupervised machine learning"
   ],
   "cell_type": "markdown",
   "metadata": {}
  },
  {
   "cell_type": "code",
   "execution_count": 1,
   "metadata": {},
   "outputs": [],
   "source": [
    "import pandas as pd             # Pandas handles tabular data\n",
    "import matplotlib.pyplot as plt # standard plotting library\n",
    "import numpy as np              # Numpy for linear algebra & co\n",
    "import seaborn as sns           # For pretty dataviz\n",
    "\n",
    "# Turn off scientific notation and too much decimal blah\n",
    "pd.set_option('display.float_format', lambda x: '%.3f' % x)\n",
    "np.set_printoptions(precision=3, suppress=True)\n",
    "\n",
    "# Define style for dataviz\n",
    "sns.set_style(\"darkgrid\")"
   ]
  }
 ]
}